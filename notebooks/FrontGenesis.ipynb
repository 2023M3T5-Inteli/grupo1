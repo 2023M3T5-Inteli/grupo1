{
  "nbformat": 4,
  "nbformat_minor": 0,
  "metadata": {
    "colab": {
      "provenance": []
    },
    "kernelspec": {
      "name": "python3",
      "display_name": "Python 3"
    },
    "language_info": {
      "name": "python"
    }
  },
  "cells": [
    {
      "cell_type": "code",
      "execution_count": null,
      "metadata": {
        "id": "eBjCqo08zDaS"
      },
      "outputs": [],
      "source": [
        "!pip install pycaret\n",
        "!pip install pycaret[mlops]"
      ]
    },
    {
      "cell_type": "code",
      "source": [
        "import joblib\n",
        "import pycaret\n",
        "import pandas as pd\n",
        "from google.colab import drive\n",
        "\n",
        "drive.mount('/content/drive/')\n",
        "\n",
        "loaded_model = joblib.load('/content/gbc_pipeline.pkl')"
      ],
      "metadata": {
        "colab": {
          "base_uri": "https://localhost:8080/"
        },
        "id": "yy7s14EHzHmG",
        "outputId": "dce768e9-41e5-4043-e1a1-ea9db15f6e31"
      },
      "execution_count": 9,
      "outputs": [
        {
          "output_type": "stream",
          "name": "stdout",
          "text": [
            "Drive already mounted at /content/drive/; to attempt to forcibly remount, call drive.mount(\"/content/drive/\", force_remount=True).\n"
          ]
        }
      ]
    },
    {
      "cell_type": "code",
      "source": [
        "df = pd.read_csv('/content/drive/MyDrive/Data/merged_df2.csv')"
      ],
      "metadata": {
        "id": "7g6ymph7zLco"
      },
      "execution_count": 11,
      "outputs": []
    },
    {
      "cell_type": "code",
      "source": [
        "loaded_model"
      ],
      "metadata": {
        "colab": {
          "base_uri": "https://localhost:8080/",
          "height": 537
        },
        "id": "whQZ4lLRzOFe",
        "outputId": "ce9f9145-7733-4a83-92fb-5aeb8b82e21c"
      },
      "execution_count": 12,
      "outputs": [
        {
          "output_type": "execute_result",
          "data": {
            "text/plain": [
              "Pipeline(memory=FastMemory(location=/tmp/joblib),\n",
              "         steps=[('numerical_imputer',\n",
              "                 TransformerWrapper(exclude=None,\n",
              "                                    include=['escolaridade',\n",
              "                                             'idade_diagnostico', 'sexo',\n",
              "                                             'raca',\n",
              "                                             'ultima_informacao_paciente',\n",
              "                                             'tempo_seguimento', 'ja_gravida',\n",
              "                                             'gestacao_idade',\n",
              "                                             'tempo_amamentacao',\n",
              "                                             'grau_parentesco_mama_primeiro_1_vez',\n",
              "                                             'grau_parentesco_mama_primeiro_mais_vezes',\n",
              "                                             'gra...\n",
              "                 RandomForestClassifier(bootstrap=True, ccp_alpha=0.0,\n",
              "                                        class_weight=None, criterion='entropy',\n",
              "                                        max_depth=20, max_features='sqrt',\n",
              "                                        max_leaf_nodes=None, max_samples=None,\n",
              "                                        min_impurity_decrease=0.0,\n",
              "                                        min_samples_leaf=1, min_samples_split=2,\n",
              "                                        min_weight_fraction_leaf=0.0,\n",
              "                                        n_estimators=50, n_jobs=-1,\n",
              "                                        oob_score=False, random_state=1974,\n",
              "                                        verbose=0, warm_start=False))],\n",
              "         verbose=False)"
            ],
            "text/html": [
              "<style>#sk-container-id-2 {color: black;background-color: white;}#sk-container-id-2 pre{padding: 0;}#sk-container-id-2 div.sk-toggleable {background-color: white;}#sk-container-id-2 label.sk-toggleable__label {cursor: pointer;display: block;width: 100%;margin-bottom: 0;padding: 0.3em;box-sizing: border-box;text-align: center;}#sk-container-id-2 label.sk-toggleable__label-arrow:before {content: \"▸\";float: left;margin-right: 0.25em;color: #696969;}#sk-container-id-2 label.sk-toggleable__label-arrow:hover:before {color: black;}#sk-container-id-2 div.sk-estimator:hover label.sk-toggleable__label-arrow:before {color: black;}#sk-container-id-2 div.sk-toggleable__content {max-height: 0;max-width: 0;overflow: hidden;text-align: left;background-color: #f0f8ff;}#sk-container-id-2 div.sk-toggleable__content pre {margin: 0.2em;color: black;border-radius: 0.25em;background-color: #f0f8ff;}#sk-container-id-2 input.sk-toggleable__control:checked~div.sk-toggleable__content {max-height: 200px;max-width: 100%;overflow: auto;}#sk-container-id-2 input.sk-toggleable__control:checked~label.sk-toggleable__label-arrow:before {content: \"▾\";}#sk-container-id-2 div.sk-estimator input.sk-toggleable__control:checked~label.sk-toggleable__label {background-color: #d4ebff;}#sk-container-id-2 div.sk-label input.sk-toggleable__control:checked~label.sk-toggleable__label {background-color: #d4ebff;}#sk-container-id-2 input.sk-hidden--visually {border: 0;clip: rect(1px 1px 1px 1px);clip: rect(1px, 1px, 1px, 1px);height: 1px;margin: -1px;overflow: hidden;padding: 0;position: absolute;width: 1px;}#sk-container-id-2 div.sk-estimator {font-family: monospace;background-color: #f0f8ff;border: 1px dotted black;border-radius: 0.25em;box-sizing: border-box;margin-bottom: 0.5em;}#sk-container-id-2 div.sk-estimator:hover {background-color: #d4ebff;}#sk-container-id-2 div.sk-parallel-item::after {content: \"\";width: 100%;border-bottom: 1px solid gray;flex-grow: 1;}#sk-container-id-2 div.sk-label:hover label.sk-toggleable__label {background-color: #d4ebff;}#sk-container-id-2 div.sk-serial::before {content: \"\";position: absolute;border-left: 1px solid gray;box-sizing: border-box;top: 0;bottom: 0;left: 50%;z-index: 0;}#sk-container-id-2 div.sk-serial {display: flex;flex-direction: column;align-items: center;background-color: white;padding-right: 0.2em;padding-left: 0.2em;position: relative;}#sk-container-id-2 div.sk-item {position: relative;z-index: 1;}#sk-container-id-2 div.sk-parallel {display: flex;align-items: stretch;justify-content: center;background-color: white;position: relative;}#sk-container-id-2 div.sk-item::before, #sk-container-id-2 div.sk-parallel-item::before {content: \"\";position: absolute;border-left: 1px solid gray;box-sizing: border-box;top: 0;bottom: 0;left: 50%;z-index: -1;}#sk-container-id-2 div.sk-parallel-item {display: flex;flex-direction: column;z-index: 1;position: relative;background-color: white;}#sk-container-id-2 div.sk-parallel-item:first-child::after {align-self: flex-end;width: 50%;}#sk-container-id-2 div.sk-parallel-item:last-child::after {align-self: flex-start;width: 50%;}#sk-container-id-2 div.sk-parallel-item:only-child::after {width: 0;}#sk-container-id-2 div.sk-dashed-wrapped {border: 1px dashed gray;margin: 0 0.4em 0.5em 0.4em;box-sizing: border-box;padding-bottom: 0.4em;background-color: white;}#sk-container-id-2 div.sk-label label {font-family: monospace;font-weight: bold;display: inline-block;line-height: 1.2em;}#sk-container-id-2 div.sk-label-container {text-align: center;}#sk-container-id-2 div.sk-container {/* jupyter's `normalize.less` sets `[hidden] { display: none; }` but bootstrap.min.css set `[hidden] { display: none !important; }` so we also need the `!important` here to be able to override the default hidden behavior on the sphinx rendered scikit-learn.org. See: https://github.com/scikit-learn/scikit-learn/issues/21755 */display: inline-block !important;position: relative;}#sk-container-id-2 div.sk-text-repr-fallback {display: none;}</style><div id=\"sk-container-id-2\" class=\"sk-top-container\"><div class=\"sk-text-repr-fallback\"><pre>Pipeline(memory=FastMemory(location=/tmp/joblib),\n",
              "         steps=[(&#x27;numerical_imputer&#x27;,\n",
              "                 TransformerWrapper(exclude=None,\n",
              "                                    include=[&#x27;escolaridade&#x27;,\n",
              "                                             &#x27;idade_diagnostico&#x27;, &#x27;sexo&#x27;,\n",
              "                                             &#x27;raca&#x27;,\n",
              "                                             &#x27;ultima_informacao_paciente&#x27;,\n",
              "                                             &#x27;tempo_seguimento&#x27;, &#x27;ja_gravida&#x27;,\n",
              "                                             &#x27;gestacao_idade&#x27;,\n",
              "                                             &#x27;tempo_amamentacao&#x27;,\n",
              "                                             &#x27;grau_parentesco_mama_primeiro_1_vez&#x27;,\n",
              "                                             &#x27;grau_parentesco_mama_primeiro_mais_vezes&#x27;,\n",
              "                                             &#x27;gra...\n",
              "                 RandomForestClassifier(bootstrap=True, ccp_alpha=0.0,\n",
              "                                        class_weight=None, criterion=&#x27;entropy&#x27;,\n",
              "                                        max_depth=20, max_features=&#x27;sqrt&#x27;,\n",
              "                                        max_leaf_nodes=None, max_samples=None,\n",
              "                                        min_impurity_decrease=0.0,\n",
              "                                        min_samples_leaf=1, min_samples_split=2,\n",
              "                                        min_weight_fraction_leaf=0.0,\n",
              "                                        n_estimators=50, n_jobs=-1,\n",
              "                                        oob_score=False, random_state=1974,\n",
              "                                        verbose=0, warm_start=False))],\n",
              "         verbose=False)</pre><b>In a Jupyter environment, please rerun this cell to show the HTML representation or trust the notebook. <br />On GitHub, the HTML representation is unable to render, please try loading this page with nbviewer.org.</b></div><div class=\"sk-container\" hidden><div class=\"sk-item sk-dashed-wrapped\"><div class=\"sk-label-container\"><div class=\"sk-label sk-toggleable\"><input class=\"sk-toggleable__control sk-hidden--visually\" id=\"sk-estimator-id-16\" type=\"checkbox\" ><label for=\"sk-estimator-id-16\" class=\"sk-toggleable__label sk-toggleable__label-arrow\">Pipeline</label><div class=\"sk-toggleable__content\"><pre>Pipeline(memory=FastMemory(location=/tmp/joblib),\n",
              "         steps=[(&#x27;numerical_imputer&#x27;,\n",
              "                 TransformerWrapper(exclude=None,\n",
              "                                    include=[&#x27;escolaridade&#x27;,\n",
              "                                             &#x27;idade_diagnostico&#x27;, &#x27;sexo&#x27;,\n",
              "                                             &#x27;raca&#x27;,\n",
              "                                             &#x27;ultima_informacao_paciente&#x27;,\n",
              "                                             &#x27;tempo_seguimento&#x27;, &#x27;ja_gravida&#x27;,\n",
              "                                             &#x27;gestacao_idade&#x27;,\n",
              "                                             &#x27;tempo_amamentacao&#x27;,\n",
              "                                             &#x27;grau_parentesco_mama_primeiro_1_vez&#x27;,\n",
              "                                             &#x27;grau_parentesco_mama_primeiro_mais_vezes&#x27;,\n",
              "                                             &#x27;gra...\n",
              "                 RandomForestClassifier(bootstrap=True, ccp_alpha=0.0,\n",
              "                                        class_weight=None, criterion=&#x27;entropy&#x27;,\n",
              "                                        max_depth=20, max_features=&#x27;sqrt&#x27;,\n",
              "                                        max_leaf_nodes=None, max_samples=None,\n",
              "                                        min_impurity_decrease=0.0,\n",
              "                                        min_samples_leaf=1, min_samples_split=2,\n",
              "                                        min_weight_fraction_leaf=0.0,\n",
              "                                        n_estimators=50, n_jobs=-1,\n",
              "                                        oob_score=False, random_state=1974,\n",
              "                                        verbose=0, warm_start=False))],\n",
              "         verbose=False)</pre></div></div></div><div class=\"sk-serial\"><div class=\"sk-item sk-dashed-wrapped\"><div class=\"sk-label-container\"><div class=\"sk-label sk-toggleable\"><input class=\"sk-toggleable__control sk-hidden--visually\" id=\"sk-estimator-id-17\" type=\"checkbox\" ><label for=\"sk-estimator-id-17\" class=\"sk-toggleable__label sk-toggleable__label-arrow\">numerical_imputer: TransformerWrapper</label><div class=\"sk-toggleable__content\"><pre>TransformerWrapper(exclude=None,\n",
              "                   include=[&#x27;escolaridade&#x27;, &#x27;idade_diagnostico&#x27;, &#x27;sexo&#x27;, &#x27;raca&#x27;,\n",
              "                            &#x27;ultima_informacao_paciente&#x27;, &#x27;tempo_seguimento&#x27;,\n",
              "                            &#x27;ja_gravida&#x27;, &#x27;gestacao_idade&#x27;, &#x27;tempo_amamentacao&#x27;,\n",
              "                            &#x27;grau_parentesco_mama_primeiro_1_vez&#x27;,\n",
              "                            &#x27;grau_parentesco_mama_primeiro_mais_vezes&#x27;,\n",
              "                            &#x27;grau_parentesco_mama_segundo_1_vez&#x27;,\n",
              "                            &#x27;grau_parentesco_mama_segundo_mais_vezes&#x27;,\n",
              "                            &#x27;i...\n",
              "                            &#x27;grau_histologico&#x27;, &#x27;subtipo_tumoral&#x27;,\n",
              "                            &#x27;receptor_estrogenio&#x27;, &#x27;receptor_progesterona&#x27;,\n",
              "                            &#x27;ki67&#x27;,\n",
              "                            &#x27;Receptor de progesterona (quantificação %)&#x27;,\n",
              "                            &#x27;Receptorde Estrogênio (quantificação %)&#x27;,\n",
              "                            &#x27;Indice H (Receptorde progesterona)&#x27;, ...],\n",
              "                   transformer=SimpleImputer(add_indicator=False, copy=True,\n",
              "                                             fill_value=None,\n",
              "                                             keep_empty_features=False,\n",
              "                                             missing_values=nan,\n",
              "                                             strategy=&#x27;mean&#x27;,\n",
              "                                             verbose=&#x27;deprecated&#x27;))</pre></div></div></div><div class=\"sk-parallel\"><div class=\"sk-parallel-item\"><div class=\"sk-item\"><div class=\"sk-label-container\"><div class=\"sk-label sk-toggleable\"><input class=\"sk-toggleable__control sk-hidden--visually\" id=\"sk-estimator-id-18\" type=\"checkbox\" ><label for=\"sk-estimator-id-18\" class=\"sk-toggleable__label sk-toggleable__label-arrow\">transformer: SimpleImputer</label><div class=\"sk-toggleable__content\"><pre>SimpleImputer()</pre></div></div></div><div class=\"sk-serial\"><div class=\"sk-item\"><div class=\"sk-estimator sk-toggleable\"><input class=\"sk-toggleable__control sk-hidden--visually\" id=\"sk-estimator-id-19\" type=\"checkbox\" ><label for=\"sk-estimator-id-19\" class=\"sk-toggleable__label sk-toggleable__label-arrow\">SimpleImputer</label><div class=\"sk-toggleable__content\"><pre>SimpleImputer()</pre></div></div></div></div></div></div></div></div><div class=\"sk-item sk-dashed-wrapped\"><div class=\"sk-label-container\"><div class=\"sk-label sk-toggleable\"><input class=\"sk-toggleable__control sk-hidden--visually\" id=\"sk-estimator-id-20\" type=\"checkbox\" ><label for=\"sk-estimator-id-20\" class=\"sk-toggleable__label sk-toggleable__label-arrow\">categorical_imputer: TransformerWrapper</label><div class=\"sk-toggleable__content\"><pre>TransformerWrapper(exclude=None, include=[],\n",
              "                   transformer=SimpleImputer(add_indicator=False, copy=True,\n",
              "                                             fill_value=None,\n",
              "                                             keep_empty_features=False,\n",
              "                                             missing_values=nan,\n",
              "                                             strategy=&#x27;most_frequent&#x27;,\n",
              "                                             verbose=&#x27;deprecated&#x27;))</pre></div></div></div><div class=\"sk-parallel\"><div class=\"sk-parallel-item\"><div class=\"sk-item\"><div class=\"sk-label-container\"><div class=\"sk-label sk-toggleable\"><input class=\"sk-toggleable__control sk-hidden--visually\" id=\"sk-estimator-id-21\" type=\"checkbox\" ><label for=\"sk-estimator-id-21\" class=\"sk-toggleable__label sk-toggleable__label-arrow\">transformer: SimpleImputer</label><div class=\"sk-toggleable__content\"><pre>SimpleImputer(strategy=&#x27;most_frequent&#x27;)</pre></div></div></div><div class=\"sk-serial\"><div class=\"sk-item\"><div class=\"sk-estimator sk-toggleable\"><input class=\"sk-toggleable__control sk-hidden--visually\" id=\"sk-estimator-id-22\" type=\"checkbox\" ><label for=\"sk-estimator-id-22\" class=\"sk-toggleable__label sk-toggleable__label-arrow\">SimpleImputer</label><div class=\"sk-toggleable__content\"><pre>SimpleImputer(strategy=&#x27;most_frequent&#x27;)</pre></div></div></div></div></div></div></div></div><div class=\"sk-item sk-dashed-wrapped\"><div class=\"sk-label-container\"><div class=\"sk-label sk-toggleable\"><input class=\"sk-toggleable__control sk-hidden--visually\" id=\"sk-estimator-id-23\" type=\"checkbox\" ><label for=\"sk-estimator-id-23\" class=\"sk-toggleable__label sk-toggleable__label-arrow\">balance: TransformerWrapper</label><div class=\"sk-toggleable__content\"><pre>TransformerWrapper(exclude=None, include=None,\n",
              "                   transformer=FixImbalancer(estimator=SMOTE(k_neighbors=5,\n",
              "                                                             n_jobs=None,\n",
              "                                                             random_state=None,\n",
              "                                                             sampling_strategy=&#x27;auto&#x27;)))</pre></div></div></div><div class=\"sk-parallel\"><div class=\"sk-parallel-item\"><div class=\"sk-item\"><div class=\"sk-label-container\"><div class=\"sk-label sk-toggleable\"><input class=\"sk-toggleable__control sk-hidden--visually\" id=\"sk-estimator-id-24\" type=\"checkbox\" ><label for=\"sk-estimator-id-24\" class=\"sk-toggleable__label sk-toggleable__label-arrow\">transformer: FixImbalancer</label><div class=\"sk-toggleable__content\"><pre>FixImbalancer(estimator=SMOTE())</pre></div></div></div><div class=\"sk-serial\"><div class=\"sk-item sk-dashed-wrapped\"><div class=\"sk-parallel\"><div class=\"sk-parallel-item\"><div class=\"sk-item\"><div class=\"sk-label-container\"><div class=\"sk-label sk-toggleable\"><input class=\"sk-toggleable__control sk-hidden--visually\" id=\"sk-estimator-id-25\" type=\"checkbox\" ><label for=\"sk-estimator-id-25\" class=\"sk-toggleable__label sk-toggleable__label-arrow\">estimator: SMOTE</label><div class=\"sk-toggleable__content\"><pre>SMOTE()</pre></div></div></div><div class=\"sk-serial\"><div class=\"sk-item\"><div class=\"sk-estimator sk-toggleable\"><input class=\"sk-toggleable__control sk-hidden--visually\" id=\"sk-estimator-id-26\" type=\"checkbox\" ><label for=\"sk-estimator-id-26\" class=\"sk-toggleable__label sk-toggleable__label-arrow\">SMOTE</label><div class=\"sk-toggleable__content\"><pre>SMOTE()</pre></div></div></div></div></div></div></div></div></div></div></div></div></div><div class=\"sk-item sk-dashed-wrapped\"><div class=\"sk-label-container\"><div class=\"sk-label sk-toggleable\"><input class=\"sk-toggleable__control sk-hidden--visually\" id=\"sk-estimator-id-27\" type=\"checkbox\" ><label for=\"sk-estimator-id-27\" class=\"sk-toggleable__label sk-toggleable__label-arrow\">clean_column_names: TransformerWrapper</label><div class=\"sk-toggleable__content\"><pre>TransformerWrapper(exclude=None, include=None,\n",
              "                   transformer=CleanColumnNames(match=&#x27;[\\\\]\\\\[\\\\,\\\\{\\\\}\\\\&quot;\\\\:]+&#x27;))</pre></div></div></div><div class=\"sk-parallel\"><div class=\"sk-parallel-item\"><div class=\"sk-item\"><div class=\"sk-label-container\"><div class=\"sk-label sk-toggleable\"><input class=\"sk-toggleable__control sk-hidden--visually\" id=\"sk-estimator-id-28\" type=\"checkbox\" ><label for=\"sk-estimator-id-28\" class=\"sk-toggleable__label sk-toggleable__label-arrow\">transformer: CleanColumnNames</label><div class=\"sk-toggleable__content\"><pre>CleanColumnNames()</pre></div></div></div><div class=\"sk-serial\"><div class=\"sk-item\"><div class=\"sk-estimator sk-toggleable\"><input class=\"sk-toggleable__control sk-hidden--visually\" id=\"sk-estimator-id-29\" type=\"checkbox\" ><label for=\"sk-estimator-id-29\" class=\"sk-toggleable__label sk-toggleable__label-arrow\">CleanColumnNames</label><div class=\"sk-toggleable__content\"><pre>CleanColumnNames()</pre></div></div></div></div></div></div></div></div><div class=\"sk-item\"><div class=\"sk-estimator sk-toggleable\"><input class=\"sk-toggleable__control sk-hidden--visually\" id=\"sk-estimator-id-30\" type=\"checkbox\" ><label for=\"sk-estimator-id-30\" class=\"sk-toggleable__label sk-toggleable__label-arrow\">RandomForestClassifier</label><div class=\"sk-toggleable__content\"><pre>RandomForestClassifier(criterion=&#x27;entropy&#x27;, max_depth=20, n_estimators=50,\n",
              "                       n_jobs=-1, random_state=1974)</pre></div></div></div></div></div></div></div>"
            ]
          },
          "metadata": {},
          "execution_count": 12
        }
      ]
    },
    {
      "cell_type": "code",
      "source": [
        "from pycaret.classification import *\n",
        "\n",
        "exp = setup(data=df, target='tratamento')"
      ],
      "metadata": {
        "colab": {
          "base_uri": "https://localhost:8080/",
          "height": 645
        },
        "id": "jaD_aEOszShA",
        "outputId": "c9bf7df5-a7d6-43e4-e3fe-20ccfb41004f"
      },
      "execution_count": 13,
      "outputs": [
        {
          "output_type": "display_data",
          "data": {
            "text/plain": [
              "<pandas.io.formats.style.Styler at 0x7f2816866f70>"
            ],
            "text/html": [
              "<style type=\"text/css\">\n",
              "#T_22c88_row8_col1 {\n",
              "  background-color: lightgreen;\n",
              "}\n",
              "</style>\n",
              "<table id=\"T_22c88\" class=\"dataframe\">\n",
              "  <thead>\n",
              "    <tr>\n",
              "      <th class=\"blank level0\" >&nbsp;</th>\n",
              "      <th id=\"T_22c88_level0_col0\" class=\"col_heading level0 col0\" >Description</th>\n",
              "      <th id=\"T_22c88_level0_col1\" class=\"col_heading level0 col1\" >Value</th>\n",
              "    </tr>\n",
              "  </thead>\n",
              "  <tbody>\n",
              "    <tr>\n",
              "      <th id=\"T_22c88_level0_row0\" class=\"row_heading level0 row0\" >0</th>\n",
              "      <td id=\"T_22c88_row0_col0\" class=\"data row0 col0\" >Session id</td>\n",
              "      <td id=\"T_22c88_row0_col1\" class=\"data row0 col1\" >1851</td>\n",
              "    </tr>\n",
              "    <tr>\n",
              "      <th id=\"T_22c88_level0_row1\" class=\"row_heading level0 row1\" >1</th>\n",
              "      <td id=\"T_22c88_row1_col0\" class=\"data row1 col0\" >Target</td>\n",
              "      <td id=\"T_22c88_row1_col1\" class=\"data row1 col1\" >tratamento</td>\n",
              "    </tr>\n",
              "    <tr>\n",
              "      <th id=\"T_22c88_level0_row2\" class=\"row_heading level0 row2\" >2</th>\n",
              "      <td id=\"T_22c88_row2_col0\" class=\"data row2 col0\" >Target type</td>\n",
              "      <td id=\"T_22c88_row2_col1\" class=\"data row2 col1\" >Binary</td>\n",
              "    </tr>\n",
              "    <tr>\n",
              "      <th id=\"T_22c88_level0_row3\" class=\"row_heading level0 row3\" >3</th>\n",
              "      <td id=\"T_22c88_row3_col0\" class=\"data row3 col0\" >Original data shape</td>\n",
              "      <td id=\"T_22c88_row3_col1\" class=\"data row3 col1\" >(3095, 60)</td>\n",
              "    </tr>\n",
              "    <tr>\n",
              "      <th id=\"T_22c88_level0_row4\" class=\"row_heading level0 row4\" >4</th>\n",
              "      <td id=\"T_22c88_row4_col0\" class=\"data row4 col0\" >Transformed data shape</td>\n",
              "      <td id=\"T_22c88_row4_col1\" class=\"data row4 col1\" >(3095, 60)</td>\n",
              "    </tr>\n",
              "    <tr>\n",
              "      <th id=\"T_22c88_level0_row5\" class=\"row_heading level0 row5\" >5</th>\n",
              "      <td id=\"T_22c88_row5_col0\" class=\"data row5 col0\" >Transformed train set shape</td>\n",
              "      <td id=\"T_22c88_row5_col1\" class=\"data row5 col1\" >(2166, 60)</td>\n",
              "    </tr>\n",
              "    <tr>\n",
              "      <th id=\"T_22c88_level0_row6\" class=\"row_heading level0 row6\" >6</th>\n",
              "      <td id=\"T_22c88_row6_col0\" class=\"data row6 col0\" >Transformed test set shape</td>\n",
              "      <td id=\"T_22c88_row6_col1\" class=\"data row6 col1\" >(929, 60)</td>\n",
              "    </tr>\n",
              "    <tr>\n",
              "      <th id=\"T_22c88_level0_row7\" class=\"row_heading level0 row7\" >7</th>\n",
              "      <td id=\"T_22c88_row7_col0\" class=\"data row7 col0\" >Numeric features</td>\n",
              "      <td id=\"T_22c88_row7_col1\" class=\"data row7 col1\" >59</td>\n",
              "    </tr>\n",
              "    <tr>\n",
              "      <th id=\"T_22c88_level0_row8\" class=\"row_heading level0 row8\" >8</th>\n",
              "      <td id=\"T_22c88_row8_col0\" class=\"data row8 col0\" >Preprocess</td>\n",
              "      <td id=\"T_22c88_row8_col1\" class=\"data row8 col1\" >True</td>\n",
              "    </tr>\n",
              "    <tr>\n",
              "      <th id=\"T_22c88_level0_row9\" class=\"row_heading level0 row9\" >9</th>\n",
              "      <td id=\"T_22c88_row9_col0\" class=\"data row9 col0\" >Imputation type</td>\n",
              "      <td id=\"T_22c88_row9_col1\" class=\"data row9 col1\" >simple</td>\n",
              "    </tr>\n",
              "    <tr>\n",
              "      <th id=\"T_22c88_level0_row10\" class=\"row_heading level0 row10\" >10</th>\n",
              "      <td id=\"T_22c88_row10_col0\" class=\"data row10 col0\" >Numeric imputation</td>\n",
              "      <td id=\"T_22c88_row10_col1\" class=\"data row10 col1\" >mean</td>\n",
              "    </tr>\n",
              "    <tr>\n",
              "      <th id=\"T_22c88_level0_row11\" class=\"row_heading level0 row11\" >11</th>\n",
              "      <td id=\"T_22c88_row11_col0\" class=\"data row11 col0\" >Categorical imputation</td>\n",
              "      <td id=\"T_22c88_row11_col1\" class=\"data row11 col1\" >mode</td>\n",
              "    </tr>\n",
              "    <tr>\n",
              "      <th id=\"T_22c88_level0_row12\" class=\"row_heading level0 row12\" >12</th>\n",
              "      <td id=\"T_22c88_row12_col0\" class=\"data row12 col0\" >Fold Generator</td>\n",
              "      <td id=\"T_22c88_row12_col1\" class=\"data row12 col1\" >StratifiedKFold</td>\n",
              "    </tr>\n",
              "    <tr>\n",
              "      <th id=\"T_22c88_level0_row13\" class=\"row_heading level0 row13\" >13</th>\n",
              "      <td id=\"T_22c88_row13_col0\" class=\"data row13 col0\" >Fold Number</td>\n",
              "      <td id=\"T_22c88_row13_col1\" class=\"data row13 col1\" >10</td>\n",
              "    </tr>\n",
              "    <tr>\n",
              "      <th id=\"T_22c88_level0_row14\" class=\"row_heading level0 row14\" >14</th>\n",
              "      <td id=\"T_22c88_row14_col0\" class=\"data row14 col0\" >CPU Jobs</td>\n",
              "      <td id=\"T_22c88_row14_col1\" class=\"data row14 col1\" >-1</td>\n",
              "    </tr>\n",
              "    <tr>\n",
              "      <th id=\"T_22c88_level0_row15\" class=\"row_heading level0 row15\" >15</th>\n",
              "      <td id=\"T_22c88_row15_col0\" class=\"data row15 col0\" >Use GPU</td>\n",
              "      <td id=\"T_22c88_row15_col1\" class=\"data row15 col1\" >False</td>\n",
              "    </tr>\n",
              "    <tr>\n",
              "      <th id=\"T_22c88_level0_row16\" class=\"row_heading level0 row16\" >16</th>\n",
              "      <td id=\"T_22c88_row16_col0\" class=\"data row16 col0\" >Log Experiment</td>\n",
              "      <td id=\"T_22c88_row16_col1\" class=\"data row16 col1\" >False</td>\n",
              "    </tr>\n",
              "    <tr>\n",
              "      <th id=\"T_22c88_level0_row17\" class=\"row_heading level0 row17\" >17</th>\n",
              "      <td id=\"T_22c88_row17_col0\" class=\"data row17 col0\" >Experiment Name</td>\n",
              "      <td id=\"T_22c88_row17_col1\" class=\"data row17 col1\" >clf-default-name</td>\n",
              "    </tr>\n",
              "    <tr>\n",
              "      <th id=\"T_22c88_level0_row18\" class=\"row_heading level0 row18\" >18</th>\n",
              "      <td id=\"T_22c88_row18_col0\" class=\"data row18 col0\" >USI</td>\n",
              "      <td id=\"T_22c88_row18_col1\" class=\"data row18 col1\" >2d79</td>\n",
              "    </tr>\n",
              "  </tbody>\n",
              "</table>\n"
            ]
          },
          "metadata": {}
        }
      ]
    },
    {
      "cell_type": "code",
      "source": [
        "create_app(loaded_model)"
      ],
      "metadata": {
        "colab": {
          "base_uri": "https://localhost:8080/",
          "height": 616
        },
        "id": "57bUORjPzVXz",
        "outputId": "9a1b6730-f51f-46ea-8166-41e3df36897b"
      },
      "execution_count": 22,
      "outputs": [
        {
          "output_type": "stream",
          "name": "stdout",
          "text": [
            "Colab notebook detected. To show errors in colab notebook, set debug=True in launch()\n",
            "Note: opening Chrome Inspector may crash demo inside Colab notebooks.\n",
            "\n",
            "To create a public link, set `share=True` in `launch()`.\n"
          ]
        },
        {
          "output_type": "display_data",
          "data": {
            "text/plain": [
              "<IPython.core.display.Javascript object>"
            ],
            "application/javascript": [
              "(async (port, path, width, height, cache, element) => {\n",
              "                        if (!google.colab.kernel.accessAllowed && !cache) {\n",
              "                            return;\n",
              "                        }\n",
              "                        element.appendChild(document.createTextNode(''));\n",
              "                        const url = await google.colab.kernel.proxyPort(port, {cache});\n",
              "\n",
              "                        const external_link = document.createElement('div');\n",
              "                        external_link.innerHTML = `\n",
              "                            <div style=\"font-family: monospace; margin-bottom: 0.5rem\">\n",
              "                                Running on <a href=${new URL(path, url).toString()} target=\"_blank\">\n",
              "                                    https://localhost:${port}${path}\n",
              "                                </a>\n",
              "                            </div>\n",
              "                        `;\n",
              "                        element.appendChild(external_link);\n",
              "\n",
              "                        const iframe = document.createElement('iframe');\n",
              "                        iframe.src = new URL(path, url).toString();\n",
              "                        iframe.height = height;\n",
              "                        iframe.allow = \"autoplay; camera; microphone; clipboard-read; clipboard-write;\"\n",
              "                        iframe.width = width;\n",
              "                        iframe.style.border = 0;\n",
              "                        element.appendChild(iframe);\n",
              "                    })(7866, \"/\", \"100%\", 500, false, window.element)"
            ]
          },
          "metadata": {}
        },
        {
          "output_type": "execute_result",
          "data": {
            "text/plain": []
          },
          "metadata": {},
          "execution_count": 22
        }
      ]
    }
  ]
}