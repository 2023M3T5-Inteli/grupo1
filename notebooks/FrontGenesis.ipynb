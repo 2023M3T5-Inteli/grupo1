{
  "nbformat": 4,
  "nbformat_minor": 0,
  "metadata": {
    "colab": {
      "provenance": []
    },
    "kernelspec": {
      "name": "python3",
      "display_name": "Python 3"
    },
    "language_info": {
      "name": "python"
    }
  },
  "cells": [
    {
      "cell_type": "code",
      "execution_count": null,
      "metadata": {
        "id": "eBjCqo08zDaS"
      },
      "outputs": [],
      "source": [
        "!pip install pycaret\n",
        "!pip install pycaret[mlops]\n",
        "!pip install --upgrade gradio"
      ]
    },
    {
      "cell_type": "code",
      "source": [
        "import joblib\n",
        "import pycaret\n",
        "import pandas as pd\n",
        "from google.colab import drive\n",
        "\n",
        "drive.mount('/content/drive/')\n",
        "\n",
        "loaded_model = joblib.load('/content/gbc_pipeline.pkl')"
      ],
      "metadata": {
        "id": "yy7s14EHzHmG",
        "colab": {
          "base_uri": "https://localhost:8080/"
        },
        "outputId": "e80f2637-51f6-4859-f966-08638ee050a6"
      },
      "execution_count": 2,
      "outputs": [
        {
          "output_type": "stream",
          "name": "stdout",
          "text": [
            "Drive already mounted at /content/drive/; to attempt to forcibly remount, call drive.mount(\"/content/drive/\", force_remount=True).\n"
          ]
        }
      ]
    },
    {
      "cell_type": "code",
      "source": [
        "df = pd.read_csv('/content/drive/MyDrive/Data/merged_df2.csv')"
      ],
      "metadata": {
        "id": "7g6ymph7zLco"
      },
      "execution_count": 3,
      "outputs": []
    },
    {
      "cell_type": "code",
      "source": [
        "from pycaret.classification import *\n",
        "\n",
        "exp = setup(data=df, target='tratamento')"
      ],
      "metadata": {
        "id": "jaD_aEOszShA",
        "colab": {
          "base_uri": "https://localhost:8080/",
          "height": 645
        },
        "outputId": "b9e24823-1128-4dcd-9a5d-06de1215e831"
      },
      "execution_count": 4,
      "outputs": [
        {
          "output_type": "display_data",
          "data": {
            "text/plain": [
              "<pandas.io.formats.style.Styler at 0x7fb1b8c8d7f0>"
            ],
            "text/html": [
              "<style type=\"text/css\">\n",
              "#T_60e67_row8_col1 {\n",
              "  background-color: lightgreen;\n",
              "}\n",
              "</style>\n",
              "<table id=\"T_60e67\" class=\"dataframe\">\n",
              "  <thead>\n",
              "    <tr>\n",
              "      <th class=\"blank level0\" >&nbsp;</th>\n",
              "      <th id=\"T_60e67_level0_col0\" class=\"col_heading level0 col0\" >Description</th>\n",
              "      <th id=\"T_60e67_level0_col1\" class=\"col_heading level0 col1\" >Value</th>\n",
              "    </tr>\n",
              "  </thead>\n",
              "  <tbody>\n",
              "    <tr>\n",
              "      <th id=\"T_60e67_level0_row0\" class=\"row_heading level0 row0\" >0</th>\n",
              "      <td id=\"T_60e67_row0_col0\" class=\"data row0 col0\" >Session id</td>\n",
              "      <td id=\"T_60e67_row0_col1\" class=\"data row0 col1\" >2598</td>\n",
              "    </tr>\n",
              "    <tr>\n",
              "      <th id=\"T_60e67_level0_row1\" class=\"row_heading level0 row1\" >1</th>\n",
              "      <td id=\"T_60e67_row1_col0\" class=\"data row1 col0\" >Target</td>\n",
              "      <td id=\"T_60e67_row1_col1\" class=\"data row1 col1\" >tratamento</td>\n",
              "    </tr>\n",
              "    <tr>\n",
              "      <th id=\"T_60e67_level0_row2\" class=\"row_heading level0 row2\" >2</th>\n",
              "      <td id=\"T_60e67_row2_col0\" class=\"data row2 col0\" >Target type</td>\n",
              "      <td id=\"T_60e67_row2_col1\" class=\"data row2 col1\" >Binary</td>\n",
              "    </tr>\n",
              "    <tr>\n",
              "      <th id=\"T_60e67_level0_row3\" class=\"row_heading level0 row3\" >3</th>\n",
              "      <td id=\"T_60e67_row3_col0\" class=\"data row3 col0\" >Original data shape</td>\n",
              "      <td id=\"T_60e67_row3_col1\" class=\"data row3 col1\" >(1674, 60)</td>\n",
              "    </tr>\n",
              "    <tr>\n",
              "      <th id=\"T_60e67_level0_row4\" class=\"row_heading level0 row4\" >4</th>\n",
              "      <td id=\"T_60e67_row4_col0\" class=\"data row4 col0\" >Transformed data shape</td>\n",
              "      <td id=\"T_60e67_row4_col1\" class=\"data row4 col1\" >(1674, 60)</td>\n",
              "    </tr>\n",
              "    <tr>\n",
              "      <th id=\"T_60e67_level0_row5\" class=\"row_heading level0 row5\" >5</th>\n",
              "      <td id=\"T_60e67_row5_col0\" class=\"data row5 col0\" >Transformed train set shape</td>\n",
              "      <td id=\"T_60e67_row5_col1\" class=\"data row5 col1\" >(1171, 60)</td>\n",
              "    </tr>\n",
              "    <tr>\n",
              "      <th id=\"T_60e67_level0_row6\" class=\"row_heading level0 row6\" >6</th>\n",
              "      <td id=\"T_60e67_row6_col0\" class=\"data row6 col0\" >Transformed test set shape</td>\n",
              "      <td id=\"T_60e67_row6_col1\" class=\"data row6 col1\" >(503, 60)</td>\n",
              "    </tr>\n",
              "    <tr>\n",
              "      <th id=\"T_60e67_level0_row7\" class=\"row_heading level0 row7\" >7</th>\n",
              "      <td id=\"T_60e67_row7_col0\" class=\"data row7 col0\" >Numeric features</td>\n",
              "      <td id=\"T_60e67_row7_col1\" class=\"data row7 col1\" >59</td>\n",
              "    </tr>\n",
              "    <tr>\n",
              "      <th id=\"T_60e67_level0_row8\" class=\"row_heading level0 row8\" >8</th>\n",
              "      <td id=\"T_60e67_row8_col0\" class=\"data row8 col0\" >Preprocess</td>\n",
              "      <td id=\"T_60e67_row8_col1\" class=\"data row8 col1\" >True</td>\n",
              "    </tr>\n",
              "    <tr>\n",
              "      <th id=\"T_60e67_level0_row9\" class=\"row_heading level0 row9\" >9</th>\n",
              "      <td id=\"T_60e67_row9_col0\" class=\"data row9 col0\" >Imputation type</td>\n",
              "      <td id=\"T_60e67_row9_col1\" class=\"data row9 col1\" >simple</td>\n",
              "    </tr>\n",
              "    <tr>\n",
              "      <th id=\"T_60e67_level0_row10\" class=\"row_heading level0 row10\" >10</th>\n",
              "      <td id=\"T_60e67_row10_col0\" class=\"data row10 col0\" >Numeric imputation</td>\n",
              "      <td id=\"T_60e67_row10_col1\" class=\"data row10 col1\" >mean</td>\n",
              "    </tr>\n",
              "    <tr>\n",
              "      <th id=\"T_60e67_level0_row11\" class=\"row_heading level0 row11\" >11</th>\n",
              "      <td id=\"T_60e67_row11_col0\" class=\"data row11 col0\" >Categorical imputation</td>\n",
              "      <td id=\"T_60e67_row11_col1\" class=\"data row11 col1\" >mode</td>\n",
              "    </tr>\n",
              "    <tr>\n",
              "      <th id=\"T_60e67_level0_row12\" class=\"row_heading level0 row12\" >12</th>\n",
              "      <td id=\"T_60e67_row12_col0\" class=\"data row12 col0\" >Fold Generator</td>\n",
              "      <td id=\"T_60e67_row12_col1\" class=\"data row12 col1\" >StratifiedKFold</td>\n",
              "    </tr>\n",
              "    <tr>\n",
              "      <th id=\"T_60e67_level0_row13\" class=\"row_heading level0 row13\" >13</th>\n",
              "      <td id=\"T_60e67_row13_col0\" class=\"data row13 col0\" >Fold Number</td>\n",
              "      <td id=\"T_60e67_row13_col1\" class=\"data row13 col1\" >10</td>\n",
              "    </tr>\n",
              "    <tr>\n",
              "      <th id=\"T_60e67_level0_row14\" class=\"row_heading level0 row14\" >14</th>\n",
              "      <td id=\"T_60e67_row14_col0\" class=\"data row14 col0\" >CPU Jobs</td>\n",
              "      <td id=\"T_60e67_row14_col1\" class=\"data row14 col1\" >-1</td>\n",
              "    </tr>\n",
              "    <tr>\n",
              "      <th id=\"T_60e67_level0_row15\" class=\"row_heading level0 row15\" >15</th>\n",
              "      <td id=\"T_60e67_row15_col0\" class=\"data row15 col0\" >Use GPU</td>\n",
              "      <td id=\"T_60e67_row15_col1\" class=\"data row15 col1\" >False</td>\n",
              "    </tr>\n",
              "    <tr>\n",
              "      <th id=\"T_60e67_level0_row16\" class=\"row_heading level0 row16\" >16</th>\n",
              "      <td id=\"T_60e67_row16_col0\" class=\"data row16 col0\" >Log Experiment</td>\n",
              "      <td id=\"T_60e67_row16_col1\" class=\"data row16 col1\" >False</td>\n",
              "    </tr>\n",
              "    <tr>\n",
              "      <th id=\"T_60e67_level0_row17\" class=\"row_heading level0 row17\" >17</th>\n",
              "      <td id=\"T_60e67_row17_col0\" class=\"data row17 col0\" >Experiment Name</td>\n",
              "      <td id=\"T_60e67_row17_col1\" class=\"data row17 col1\" >clf-default-name</td>\n",
              "    </tr>\n",
              "    <tr>\n",
              "      <th id=\"T_60e67_level0_row18\" class=\"row_heading level0 row18\" >18</th>\n",
              "      <td id=\"T_60e67_row18_col0\" class=\"data row18 col0\" >USI</td>\n",
              "      <td id=\"T_60e67_row18_col1\" class=\"data row18 col1\" >bf75</td>\n",
              "    </tr>\n",
              "  </tbody>\n",
              "</table>\n"
            ]
          },
          "metadata": {}
        }
      ]
    },
    {
      "cell_type": "code",
      "source": [
        "import gradio as gr\n",
        "import json\n",
        "\n",
        "\n",
        "def my_function(escolaridade, idade_diagnostico, sexo, raca, ultima_informacao_paciente, tempo_seguimento, ja_gravida, gestacao_idade, tempo_amamentacao, grau_parentesco_mama_primeiro_1_vez, grau_parentesco_mama_primeiro_mais_vezes,\n",
        "          grau_parentesco_mama_segundo_1_vez, grau_parentesco_mama_segundo_mais_vezes, idade_primeira_menstruacao, uso_anticoncepcional, atividade_fisica, consumo_alcool, grau_parentesco_primeiro, grau_parentesco_segundo,\n",
        "          grau_parentesco_terceiro, anti_her2_neoadjuvante, primeiro_diagnostico, grau_histologico, subtipo_tumoral, receptor_estrogenio, receptor_progesterona, ki67, Receptor_de_progesterona_quant, Receptor_de_Estrogenio_quant, \n",
        "          Indice_H_Progest, her2_ihc, her2_fish, Ki67, cid_o, morfologia_cid_o, estadio_clinico, grupo_estadio_clinico, classificacao_tnm_t, classificacao_tnm_n, classificacao_tnm_m, combinacao_tratamentos, ano_diagnostico, \n",
        "          lateralidade_tumor, descricao_morfologia, descricao_topografia, recidiva_distancia, recidiva_regional, recidiva_local, primeiro_peso, primeira_altura, primeiro_IMC, ultimo_peso, ultima_altura, ultimo_IMC, diferenca_peso, \n",
        "          coef_peso, diferenca_tempo, coef_peso_tempo, eficacia_tratamento):\n",
        "  \n",
        "  import pandas as pd\n",
        "\n",
        "  data = {'escolaridade': [escolaridade],\n",
        "          'idade_diagnostico': [idade_diagnostico],\n",
        "          'sexo': [sexo],\n",
        "          'raca': [raca],\n",
        "          'ultima_informacao_paciente': [ultima_informacao_paciente],\n",
        "          'tempo_seguimento': [tempo_seguimento],\n",
        "          'ja_gravida': [ja_gravida],\n",
        "          'gestacao_idade': [gestacao_idade],\n",
        "          'tempo_amamentacao': [tempo_amamentacao],\n",
        "          'grau_parentesco_mama_primeiro_1_vez': [grau_parentesco_mama_primeiro_1_vez],\n",
        "          'grau_parentesco_mama_primeiro_mais_vezes': [grau_parentesco_mama_primeiro_mais_vezes],\n",
        "          'grau_parentesco_mama_segundo_1_vez': [grau_parentesco_mama_segundo_1_vez],\n",
        "          'grau_parentesco_mama_segundo_mais_vezes': [grau_parentesco_mama_segundo_mais_vezes],\n",
        "          'idade_primeira_menstruacao': [idade_primeira_menstruacao],\n",
        "          'uso_anticoncepcional': [uso_anticoncepcional],\n",
        "          'atividade_fisica': [atividade_fisica],\n",
        "          'consumo_alcool': [consumo_alcool],\n",
        "          'grau_parentesco_primeiro': [grau_parentesco_primeiro],\n",
        "          'grau_parentesco_segundo': [grau_parentesco_segundo],\n",
        "          'grau_parentesco_terceiro': [grau_parentesco_terceiro],\n",
        "          'anti_her2_neoadjuvante': [anti_her2_neoadjuvante],\n",
        "          'primeiro_diagnostico': [primeiro_diagnostico],\n",
        "          'grau_histologico': [grau_histologico],\n",
        "          'subtipo_tumoral': [subtipo_tumoral],\n",
        "          'receptor_estrogenio': [receptor_estrogenio],\n",
        "          'receptor_progesterona': [receptor_progesterona],\n",
        "          'ki67': [ki67],\n",
        "          'Receptor de progesterona (quantificação %)': [Receptor_de_progesterona_quant],\n",
        "          'Receptorde Estrogênio (quantificação %)': [Receptor_de_Estrogenio_quant],\n",
        "          'Indice H (Receptorde progesterona)': [Indice_H_Progest],\n",
        "          'her2_ihc': [her2_ihc],\n",
        "          'her2_fish': [her2_fish],\n",
        "          'Ki67 (%)': [Ki67],\n",
        "          'cid_o': [cid_o],\n",
        "          'morfologia_cid_o': [morfologia_cid_o],\n",
        "          'estadio_clinico': [estadio_clinico],\n",
        "          'grupo_estadio_clinico': [grupo_estadio_clinico],\n",
        "          'classificacao_tnm_t': [classificacao_tnm_t],\n",
        "          'classificacao_tnm_n': [classificacao_tnm_n],\n",
        "          'classificacao_tnm_m': [classificacao_tnm_m],\n",
        "          'combinacao_tratamentos': [combinacao_tratamentos],\n",
        "          'ano_diagnostico': [ano_diagnostico],\n",
        "          'lateralidade_tumor': [lateralidade_tumor],\n",
        "          'descricao_morfologia': [descricao_morfologia],\n",
        "          'descricao_topografia': [descricao_topografia],\n",
        "          'recidiva_distancia': [recidiva_distancia],\n",
        "          'recidiva_regional': [recidiva_regional],\n",
        "          'recidiva_local': [recidiva_local],\n",
        "          'primeiro_peso': [primeiro_peso],\n",
        "          'primeira_altura': [primeira_altura],\n",
        "          'primeiro_IMC': [primeiro_IMC],\n",
        "          'ultimo_peso': [ultimo_peso],\n",
        "          'ultima_altura': [ultima_altura],\n",
        "          'ultimo_IMC': [ultimo_IMC],\n",
        "          'diferenca_peso': [diferenca_peso],\n",
        "          'coef_peso': [coef_peso],\n",
        "          'diferenca_tempo': [diferenca_tempo],\n",
        "          'coef_peso_tempo': [coef_peso_tempo],\n",
        "          'eficacia_tratamento': [0]}\n",
        "\n",
        "  df = pd.DataFrame(data)\n",
        "  loaded_model.predict(df)\n",
        "\n",
        "  if loaded_model.predict(df) == [0.]: \n",
        "    return 'Terapia-Neoadjuvante'\n",
        "  else:\n",
        "    return 'Terapia-Adjuvante' \n",
        "\n",
        "  return loaded_model.predict(df)\n",
        "\n",
        "escolaridade = gr.inputs.Number(label=\"Escolaridade\")\n",
        "idade_diagnostico = gr.inputs.Number(label=\"Idade no diagnóstico\")\n",
        "sexo = gr.inputs.Number(label=\"Sexo\")\n",
        "raca = gr.inputs.Number(label=\"Raça\")\n",
        "ultima_informacao_paciente = gr.inputs.Number(label=\"Última informação do paciente\")\n",
        "tempo_seguimento = gr.inputs.Number(label=\"Tempo de seguimento\")\n",
        "ja_gravida = gr.inputs.Number(label=\"Já esteve grávida?\")\n",
        "gestacao_idade = gr.inputs.Number(label=\"Idade na primeira gestação\")\n",
        "tempo_amamentacao = gr.inputs.Number(label=\"Tempo de amamentação (meses)\")\n",
        "grau_parentesco_mama_primeiro_1_vez = gr.inputs.Number(label=\"Grau de parentesco de cancêr com a mãe no primeiro diagnóstico (1ª vez)\")\n",
        "grau_parentesco_mama_primeiro_mais_vezes = gr.inputs.Number(label=\"Grau de parentesco de cancêr com a mãe no primeiro diagnóstico (mais de 1ª vez)\")\n",
        "grau_parentesco_mama_segundo_1_vez = gr.inputs.Number(label=\"Grau de parentesco de cancêr com a mãe no segundo diagnóstico (1ª vez)\")\n",
        "grau_parentesco_mama_segundo_mais_vezes = gr.inputs.Number(label=\"Grau de parentesco cancêr com a mãe no segundo diagnóstico (mais de 1ª vez)\")\n",
        "idade_primeira_menstruacao = gr.inputs.Number(label=\"Idade na primeira menstruação\")\n",
        "uso_anticoncepcional = gr.inputs.Number(label=\"Uso de anticoncepcional?\")\n",
        "atividade_fisica = gr.inputs.Number(label=\"Atividade física?\")\n",
        "consumo_alcool = gr.inputs.Number(label=\"Consumo de álcool?\")\n",
        "grau_parentesco_primeiro = gr.inputs.Number(label=\"Grau de parentesco no primeiro diagnóstico\")\n",
        "grau_parentesco_segundo = gr.inputs.Number(label=\"Grau de parentesco no segundo diagnóstico\")\n",
        "grau_parentesco_terceiro = gr.inputs.Number(label=\"Grau de parentesco terceiro diagnóstico\")\n",
        "anti_her2_neoadjuvante = gr.inputs.Number(label=\"Anti-HER2 neoadjuvante\")\n",
        "primeiro_diagnostico = gr.inputs.Number(label=\"Primeiro diagnóstico\")\n",
        "grau_histologico = gr.inputs.Number(label=\"Grau histológico\")\n",
        "subtipo_tumoral = gr.inputs.Number(label=\"Subtipo tumoral\")\n",
        "receptor_estrogenio = gr.inputs.Number(label=\"Receptor de Estrogênio\")\n",
        "receptor_progesterona = gr.inputs.Number(label=\"Receptor de Progesterona\")\n",
        "ki67 = gr.inputs.Number(label=\"Ki67 (%)\")\n",
        "Receptor_de_progesterona_quant = gr.inputs.Number(label=\"Receptor de progesterona (quantificação %)\")\n",
        "Receptor_de_Estrogenio_quant = gr.inputs.Number(label=\"Receptor de Estrogênio (quantificação %)\")\n",
        "Indice_H_Progest = gr.inputs.Number(label=\"Índice H (Receptor de progesterona)\")\n",
        "her2_ihc = gr.inputs.Number(label=\"HER2 IHC\")\n",
        "her2_fish = gr.inputs.Number(label=\"HER2 FISH\")\n",
        "Ki67 = gr.inputs.Number(label=\"Ki67 (%)\")\n",
        "cid_o = gr.inputs.Number(label=\"CID-O\")\n",
        "morfologia_cid_o = gr.inputs.Number(label=\"Morfologia CID-O\")\n",
        "estadio_clinico = gr.inputs.Number(label=\"Estágio clínico\")\n",
        "grupo_estadio_clinico = gr.inputs.Number(label=\"Grupo de Estágio Clínico\")\n",
        "classificacao_tnm_t = gr.inputs.Number(label=\"Classificação TNM - T\")\n",
        "classificacao_tnm_n = gr.inputs.Number(label=\"Classificação TNM - N\")\n",
        "classificacao_tnm_m = gr.inputs.Number(label=\"Classificação TNM - M\")\n",
        "combinacao_tratamentos = gr.inputs.Number(label=\"Combinação de tratamentos\")\n",
        "ano_diagnostico = gr.inputs.Number(label=\"Ano de diagnóstico\")\n",
        "lateralidade_tumor = gr.inputs.Number(label=\"Lateralidade do tumor\")\n",
        "descricao_morfologia = gr.inputs.Number(label=\"descricao_morfologia\")\n",
        "descricao_topografia = gr.inputs.Number(label=\"Descrição da topografia\")\n",
        "recidiva_distancia = gr.inputs.Number(label=\"Recidiva a distância\")\n",
        "recidiva_regional = gr.inputs.Number(label=\"Recidiva regional\")\n",
        "recidiva_local = gr.inputs.Number(label=\"Recidiva local\")\n",
        "primeiro_peso = gr.inputs.Number(label=\"Primeiro peso (kg)\")\n",
        "primeira_altura = gr.inputs.Number(label=\"Primeira altura (cm)\")\n",
        "primeiro_IMC = gr.inputs.Number(label=\"Primeiro IMC\")\n",
        "ultimo_peso = gr.inputs.Number(label=\"Último peso (kg)\")\n",
        "ultima_altura = gr.inputs.Number(label=\"Última altura (cm)\")\n",
        "ultimo_IMC = gr.inputs.Number(label=\"Último IMC\")\n",
        "diferenca_peso = gr.inputs.Number(label=\"Diferença de peso (kg)\")\n",
        "coef_peso = gr.inputs.Number(label=\"Coeficiente de peso\")\n",
        "diferenca_tempo = gr.inputs.Number(label=\"Diferença de tempo\")\n",
        "coef_peso_tempo = gr.inputs.Number(label=\"Coeficiente de peso x tempo\")\n",
        "\n",
        "inputs = [escolaridade, idade_diagnostico, sexo, raca, ultima_informacao_paciente, tempo_seguimento, ja_gravida, gestacao_idade, tempo_amamentacao, grau_parentesco_mama_primeiro_1_vez, grau_parentesco_mama_primeiro_mais_vezes,\n",
        "          grau_parentesco_mama_segundo_1_vez, grau_parentesco_mama_segundo_mais_vezes, idade_primeira_menstruacao, uso_anticoncepcional, atividade_fisica, consumo_alcool, grau_parentesco_primeiro, grau_parentesco_segundo,\n",
        "          grau_parentesco_terceiro, anti_her2_neoadjuvante, primeiro_diagnostico, grau_histologico, subtipo_tumoral, receptor_estrogenio, receptor_progesterona, ki67, Receptor_de_progesterona_quant, Receptor_de_Estrogenio_quant, \n",
        "          Indice_H_Progest, her2_ihc, her2_fish, Ki67, cid_o, morfologia_cid_o, estadio_clinico, grupo_estadio_clinico, classificacao_tnm_t, classificacao_tnm_n, classificacao_tnm_m, combinacao_tratamentos, ano_diagnostico, \n",
        "          lateralidade_tumor, descricao_morfologia, descricao_topografia, recidiva_distancia, recidiva_regional, recidiva_local, primeiro_peso, primeira_altura, primeiro_IMC, ultimo_peso, ultima_altura, ultimo_IMC, diferenca_peso, \n",
        "          coef_peso, diferenca_tempo, coef_peso_tempo]\n",
        "\n",
        "app = gr.Interface(my_function, inputs=inputs, outputs=\"text\")\n",
        "app.launch(share=True)"
      ],
      "metadata": {
        "id": "gNulFmSsVRMj",
        "colab": {
          "base_uri": "https://localhost:8080/",
          "height": 591
        },
        "outputId": "6bfcefd1-4fbc-4300-defb-e25b1d0ae2a7"
      },
      "execution_count": 7,
      "outputs": [
        {
          "output_type": "stream",
          "name": "stdout",
          "text": [
            "Colab notebook detected. To show errors in colab notebook, set debug=True in launch()\n",
            "Running on public URL: https://e2ceb2e9d66be3613d.gradio.live\n",
            "\n",
            "This share link expires in 72 hours. For free permanent hosting and GPU upgrades (NEW!), check out Spaces: https://huggingface.co/spaces\n"
          ]
        },
        {
          "output_type": "display_data",
          "data": {
            "text/plain": [
              "<IPython.core.display.HTML object>"
            ],
            "text/html": [
              "<div><iframe src=\"https://e2ceb2e9d66be3613d.gradio.live\" width=\"100%\" height=\"500\" allow=\"autoplay; camera; microphone; clipboard-read; clipboard-write;\" frameborder=\"0\" allowfullscreen></iframe></div>"
            ]
          },
          "metadata": {}
        },
        {
          "output_type": "execute_result",
          "data": {
            "text/plain": []
          },
          "metadata": {},
          "execution_count": 7
        }
      ]
    }
  ]
}