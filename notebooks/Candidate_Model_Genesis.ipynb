{
  "cells": [
    {
      "cell_type": "code",
      "execution_count": 68,
      "metadata": {
        "id": "TvwryFt5GAZc"
      },
      "outputs": [],
      "source": [
        "import pandas as pd\n",
        "import numpy as np\n",
        "\n",
        "from google.colab import drive\n",
        "\n",
        "# Bibliotecas de pré-processamento\n",
        "from sklearn.preprocessing import LabelEncoder\n",
        "\n",
        "# Bibliotecas de plotting\n",
        "import plotly.express as px\n",
        "from plotly.subplots import make_subplots\n",
        "import plotly.graph_objects as go"
      ]
    },
    {
      "cell_type": "code",
      "execution_count": 69,
      "metadata": {
        "colab": {
          "base_uri": "https://localhost:8080/"
        },
        "id": "feEoNQejIwql",
        "outputId": "40fd727d-1f27-4ec6-cd8f-ef886a9cc1db"
      },
      "outputs": [
        {
          "output_type": "stream",
          "name": "stdout",
          "text": [
            "Drive already mounted at /content/drive/; to attempt to forcibly remount, call drive.mount(\"/content/drive/\", force_remount=True).\n"
          ]
        }
      ],
      "source": [
        "drive.mount('/content/drive/')"
      ]
    },
    {
      "cell_type": "code",
      "execution_count": 70,
      "metadata": {
        "id": "wbkrbaoCIkS6"
      },
      "outputs": [],
      "source": [
        "df = pd.read_csv('/content/drive/MyDrive/Data/merged_df.csv')"
      ]
    },
    {
      "cell_type": "code",
      "execution_count": 71,
      "metadata": {
        "id": "dgVyLhgEpHC2"
      },
      "outputs": [],
      "source": [
        "df = df.drop(['record_id', 'idade_faixa'], axis=1)"
      ]
    },
    {
      "cell_type": "code",
      "execution_count": null,
      "metadata": {
        "id": "-MI3AnyN8xu9"
      },
      "outputs": [],
      "source": [
        "X_afetam_eficacia = df[['idade_diagnostico','primeiro_IMC','ultima_informacao_paciente', 'tempo_seguimento', 'recidiva_distancia', 'recidiva_regional', 'recidiva_local']]"
      ]
    },
    {
      "cell_type": "code",
      "execution_count": null,
      "metadata": {
        "id": "kx0xfNKmL7Hh"
      },
      "outputs": [],
      "source": [
        "from sklearn.preprocessing import StandardScaler\n",
        "X_afetam_eficacia[['tempo_seguimento']] = StandardScaler().fit_transform(X_afetam_eficacia[['tempo_seguimento']])"
      ]
    },
    {
      "cell_type": "code",
      "execution_count": null,
      "metadata": {
        "id": "iy-WAEYF8vi-"
      },
      "outputs": [],
      "source": [
        "from sklearn.cluster import KMeans\n",
        "\n",
        "km = KMeans( n_clusters = 2, init = 'random', max_iter = 300, n_init = 100, random_state = 52 )"
      ]
    },
    {
      "cell_type": "code",
      "execution_count": null,
      "metadata": {
        "id": "adPXioIF9cwG"
      },
      "outputs": [],
      "source": [
        "km.fit( X_afetam_eficacia )"
      ]
    },
    {
      "cell_type": "code",
      "execution_count": null,
      "metadata": {
        "id": "9pOQ9zry9nto"
      },
      "outputs": [],
      "source": [
        "y_km = km.predict( X_afetam_eficacia )\n",
        "df['eficacia_tratamento'] = y_km"
      ]
    },
    {
      "cell_type": "code",
      "execution_count": null,
      "metadata": {
        "id": "TEPkbsciDgIL"
      },
      "outputs": [],
      "source": [
        "df[['idade_diagnostico','ultima_informacao_paciente', 'tempo_seguimento', 'grau_histologico', 'recidiva_distancia', 'recidiva_regional', 'recidiva_local', 'primeiro_peso', 'eficacia_tratamento']]"
      ]
    },
    {
      "cell_type": "code",
      "execution_count": null,
      "metadata": {
        "id": "7eZ-2MYv5Sg-"
      },
      "outputs": [],
      "source": [
        "# fazer alguns graficos de que tinha ((idade avançada com primeiro peso grande e eficacia tratamento))"
      ]
    },
    {
      "cell_type": "code",
      "execution_count": null,
      "metadata": {
        "id": "CAoiQIkZ5hFx"
      },
      "outputs": [],
      "source": [
        "print(len(df.query(\"idade_diagnostico > 80 and ultima_informacao_paciente == 3 and eficacia_tratamento == 0\")))\n",
        "print(len(df.query(\"idade_diagnostico > 80 and ultima_informacao_paciente == 3 and eficacia_tratamento == 1\")))\n",
        "# 0 é tratamento bom \n",
        "# 1 é tratamento ruim\n",
        "# isso mostra dois casos o de uma pessoa mais idosa de 80 anos de idade que saiu viva ou seja o tratamento foi bom \n",
        "#o outro mostra que não tem nenhum caso em que a pessoa mais idosa sobreviveu e o tratamento foi classificado como negativo"
      ]
    },
    {
      "cell_type": "code",
      "execution_count": null,
      "metadata": {
        "id": "hOoCCNVm7xWy"
      },
      "outputs": [],
      "source": [
        "df.query(\"idade_diagnostico < 30 and ultima_informacao_paciente == 0 and eficacia_tratamento == 1\")\n",
        "\n",
        "print(len(df.query(\"idade_diagnostico < 30 and ultima_informacao_paciente == 0 and eficacia_tratamento == 0\")))\n",
        "print(len(df.query(\"idade_diagnostico < 30 and ultima_informacao_paciente == 0 and eficacia_tratamento == 1\")))\n",
        "# 0 é tratamento bom \n",
        "# 1 é tratamento ruim\n",
        "# isso mostra dois casos o de uma mulher nova com menos de 30 anos uma que morreu e a outra que não de maneira que ela morreu, então o tratamento\n",
        "# bem classificado, ou seja ele esta classificando bem"
      ]
    },
    {
      "cell_type": "code",
      "execution_count": null,
      "metadata": {
        "id": "HH9ptuetMeYo"
      },
      "outputs": [],
      "source": [
        "df = df.query(\"tratamento == 0 or tratamento == 1\")[:]"
      ]
    },
    {
      "cell_type": "code",
      "execution_count": null,
      "metadata": {
        "id": "NwfQUmOOxyT8"
      },
      "outputs": [],
      "source": [
        "df"
      ]
    },
    {
      "cell_type": "code",
      "execution_count": null,
      "metadata": {
        "id": "OSHRFU1Y0MKU"
      },
      "outputs": [],
      "source": [
        "import numpy as np\n",
        "\n",
        "df = df.astype('float64')\n",
        "df = df[np.isfinite(df).all(1)]"
      ]
    },
    {
      "cell_type": "code",
      "execution_count": null,
      "metadata": {
        "id": "puOrV91DUt03"
      },
      "outputs": [],
      "source": [
        "df.columns"
      ]
    },
    {
      "cell_type": "code",
      "execution_count": null,
      "metadata": {
        "id": "0VQsl9tEWf7C"
      },
      "outputs": [],
      "source": [
        "colunas_selecionadas = list(df.columns)\n",
        "\n",
        "correlacoes = []\n",
        "\n",
        "for i in range(len(colunas_selecionadas)):\n",
        "    coluna1 = colunas_selecionadas[i]\n",
        "    coluna2 = 'tratamento'\n",
        "    corr = df[coluna1].corr(df['tratamento'])\n",
        "    chave = f'{coluna1} x {coluna2}'\n",
        "    correlacoes.append({'colunas': chave, 'correlacao': corr})\n",
        "\n",
        "correlacoes_ordenadas = sorted(correlacoes, key=lambda x: x['correlacao'], reverse=True)\n",
        "\n",
        "correlacoes_ordenadas"
      ]
    },
    {
      "cell_type": "code",
      "execution_count": null,
      "metadata": {
        "id": "w1KOsrCI-amh"
      },
      "outputs": [],
      "source": [
        "from sklearn.model_selection import train_test_split\n",
        "\n",
        "X = df.drop(['tratamento'], axis=1)\n",
        "y = df['tratamento']\n",
        "\n",
        "X_train, X_test, y_train, y_test = train_test_split(X, y, test_size = 0.3, random_state = 73)"
      ]
    },
    {
      "cell_type": "code",
      "execution_count": null,
      "metadata": {
        "id": "H3FcKLf2AcgZ"
      },
      "outputs": [],
      "source": [
        "!pip install lazypredict"
      ]
    },
    {
      "cell_type": "code",
      "execution_count": null,
      "metadata": {
        "id": "7Q0IcJ6eALuK"
      },
      "outputs": [],
      "source": [
        "from lazypredict.Supervised import LazyClassifier\n",
        "\n",
        "clf = LazyClassifier(verbose=0,ignore_warnings=True, custom_metric=None)\n",
        "models,predictions = clf.fit(X_train, X_test, y_train, y_test)"
      ]
    },
    {
      "cell_type": "code",
      "execution_count": null,
      "metadata": {
        "id": "CL0vZaE32BTS"
      },
      "outputs": [],
      "source": [
        "models"
      ]
    },
    {
      "cell_type": "code",
      "execution_count": null,
      "metadata": {
        "id": "Sk7ZjdM9mGOU"
      },
      "outputs": [],
      "source": [
        "from sklearn.datasets import make_classification\n",
        "from sklearn.ensemble import AdaBoostClassifier, RandomForestClassifier, ExtraTreesClassifier, BaggingClassifier\n",
        "from sklearn.linear_model import RidgeClassifierCV, LogisticRegression, PassiveAggressiveClassifier, SGDClassifier\n",
        "from sklearn.svm import LinearSVC, SVC, NuSVC\n",
        "from sklearn.discriminant_analysis import LinearDiscriminantAnalysis, QuadraticDiscriminantAnalysis\n",
        "from sklearn.tree import DecisionTreeClassifier, ExtraTreeClassifier\n",
        "from sklearn.neighbors import KNeighborsClassifier, NearestCentroid\n",
        "from sklearn.semi_supervised import LabelPropagation, LabelSpreading\n",
        "from sklearn.naive_bayes import GaussianNB, BernoulliNB\n",
        "from sklearn.calibration import CalibratedClassifierCV\n",
        "from sklearn.dummy import DummyClassifier\n",
        "from xgboost import XGBClassifier\n",
        "from lightgbm import LGBMClassifier\n",
        "from sklearn.metrics import precision_score\n",
        "from sklearn.metrics import recall_score\n",
        "import numpy as np\n",
        "\n",
        "from sklearn.linear_model import Perceptron\n",
        "from sklearn.linear_model import RidgeClassifier\n",
        "\n",
        "classifiers = [AdaBoostClassifier(), \n",
        "               RandomForestClassifier(),\n",
        "               ExtraTreesClassifier(),\n",
        "               RidgeClassifierCV(), \n",
        "               LinearSVC(),\n",
        "               LogisticRegression(), \n",
        "               SVC(), \n",
        "               LGBMClassifier(),\n",
        "               LinearDiscriminantAnalysis(), \n",
        "               RidgeClassifier(), \n",
        "               CalibratedClassifierCV(), \n",
        "               XGBClassifier(),\n",
        "               NearestCentroid(), \n",
        "               SGDClassifier(), \n",
        "               BaggingClassifier(),\n",
        "               BernoulliNB(),\n",
        "               PassiveAggressiveClassifier(), \n",
        "               Perceptron(),\n",
        "               NuSVC(), \n",
        "               DecisionTreeClassifier(), \n",
        "               KNeighborsClassifier(),\n",
        "               LabelSpreading(),\n",
        "               LabelPropagation(), \n",
        "               ExtraTreeClassifier(),\n",
        "               GaussianNB(),\n",
        "               DummyClassifier(),\n",
        "               QuadraticDiscriminantAnalysis()]\n",
        "\n",
        "precisions = []\n",
        "recalls = []\n",
        "\n",
        "for classifier in classifiers:\n",
        "    clf = classifier.fit(X_train, y_train)\n",
        "    y_pred = clf.predict(X_test)\n",
        "    precisions.append(precision_score(y_test, y_pred))\n",
        "    recalls.append(recall_score(y_test, y_pred))"
      ]
    },
    {
      "cell_type": "code",
      "execution_count": null,
      "metadata": {
        "id": "_6FjkPUxoG4o"
      },
      "outputs": [],
      "source": [
        "models['Precision'] = 0\n",
        "models['Recall'] = 0   \n",
        "\n",
        "for i in range(0, len(precisions)):\n",
        "  models['Precision'].iloc[i] = precisions[i]\n",
        "  models['Recall'].iloc[i] = recalls[i]\n",
        "\n",
        "models"
      ]
    },
    {
      "cell_type": "code",
      "execution_count": null,
      "metadata": {
        "id": "OONmlh5QLzr6"
      },
      "outputs": [],
      "source": [
        "# logo usaremos o modelo AdaBoostClassifier"
      ]
    },
    {
      "cell_type": "code",
      "execution_count": null,
      "metadata": {
        "id": "ScfSfi2CHOW8"
      },
      "outputs": [],
      "source": [
        "from sklearn.model_selection import GridSearchCV\n",
        "from sklearn.ensemble import AdaBoostClassifier\n",
        "\n",
        "model = AdaBoostClassifier()\n",
        "\n",
        "params = {'n_estimators': [50, 100, 200],\n",
        "          'learning_rate': [0.1, 0.5, 1.0]}\n",
        "\n",
        "grid_search = GridSearchCV(estimator=model, param_grid=params, cv=5)\n",
        "\n",
        "grid_search.fit(X_train, y_train)\n",
        "\n",
        "print(grid_search.best_params_)\n",
        "print(grid_search.best_score_)\n",
        "print(grid_search.score(X_test, y_test))"
      ]
    },
    {
      "cell_type": "code",
      "execution_count": null,
      "metadata": {
        "id": "HYOPaaoUICJw"
      },
      "outputs": [],
      "source": [
        "import seaborn as sns\n",
        "import matplotlib.pyplot as plt\n",
        "from sklearn.metrics import confusion_matrix\n",
        "\n",
        "# Obtenha as previsões do modelo e os rótulos verdadeiros\n",
        "y_pred = grid_search.predict(X_test)\n",
        "y_true = y_test\n",
        "\n",
        "# Crie a matriz de confusão usando sklearn.metrics.confusion_matrix\n",
        "cm = confusion_matrix(y_true, y_pred)\n",
        "\n",
        "# Crie a figura da matriz de confusão usando seaborn.heatmap\n",
        "sns.set(font_scale=1.4)\n",
        "sns.heatmap(\n",
        "    cm,\n",
        "    annot=True,\n",
        "    cmap='Blues',\n",
        "    fmt='d',\n",
        "    xticklabels=['Predicted 0', 'Predicted 1'],\n",
        "    yticklabels=['True 0', 'True 1'],\n",
        "    cbar=True\n",
        ")\n",
        "\n",
        "# Adicione o título e rótulos de eixo à figura\n",
        "plt.title(\"Matriz de confusão\")\n",
        "plt.xlabel(\"Rótulos previstos\")\n",
        "plt.ylabel(\"Rótulos verdadeiros\")\n",
        "\n",
        "# Mostre a figura\n",
        "plt.show()"
      ]
    }
  ],
  "metadata": {
    "colab": {
      "provenance": []
    },
    "kernelspec": {
      "display_name": "Python 3",
      "name": "python3"
    },
    "language_info": {
      "name": "python"
    }
  },
  "nbformat": 4,
  "nbformat_minor": 0
}