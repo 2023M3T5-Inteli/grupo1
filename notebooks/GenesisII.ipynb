{
  "nbformat": 4,
  "nbformat_minor": 0,
  "metadata": {
    "colab": {
      "provenance": []
    },
    "kernelspec": {
      "name": "python3",
      "display_name": "Python 3"
    },
    "language_info": {
      "name": "python"
    }
  },
  "cells": [
    {
      "cell_type": "code",
      "execution_count": 4,
      "metadata": {
        "id": "TvwryFt5GAZc"
      },
      "outputs": [],
      "source": [
        "import pandas as pd\n",
        "import numpy as np\n",
        "\n",
        "from google.colab import drive\n",
        "\n",
        "# Bibliotecas de pré-processamento\n",
        "from sklearn.preprocessing import LabelEncoder\n",
        "\n",
        "# Bibliotecas de plotting\n",
        "import plotly.express as px\n",
        "from plotly.subplots import make_subplots\n",
        "import plotly.graph_objects as go"
      ]
    },
    {
      "cell_type": "code",
      "source": [
        "drive.mount('/content/drive/')"
      ],
      "metadata": {
        "id": "feEoNQejIwql",
        "colab": {
          "base_uri": "https://localhost:8080/"
        },
        "outputId": "7a3ddeae-9be6-453f-b77b-e2e3bdddb240"
      },
      "execution_count": 5,
      "outputs": [
        {
          "output_type": "stream",
          "name": "stdout",
          "text": [
            "Mounted at /content/drive/\n"
          ]
        }
      ]
    },
    {
      "cell_type": "code",
      "source": [
        "df = pd.read_csv('/content/drive/MyDrive/Data/merged_df.csv')"
      ],
      "metadata": {
        "id": "wbkrbaoCIkS6"
      },
      "execution_count": 39,
      "outputs": []
    },
    {
      "cell_type": "code",
      "source": [
        "df.columns"
      ],
      "metadata": {
        "id": "-bmk9ABTSQqj"
      },
      "execution_count": null,
      "outputs": []
    },
    {
      "cell_type": "code",
      "source": [
        "from sklearn.model_selection import train_test_split\n",
        "\n",
        "numeric_cols = df.select_dtypes(include=['int', 'float']).columns.tolist()\n",
        "\n",
        "df = df[numeric_cols]\n",
        "\n",
        "X = df.drop('tratamento', axis=1)\n",
        "y = df['tratamento']\n",
        "\n",
        "X_train, X_test, y_train, y_test = train_test_split(X, y, test_size = 0.3, random_state = 73)"
      ],
      "metadata": {
        "id": "5djRzCfy8tLM"
      },
      "execution_count": 44,
      "outputs": []
    },
    {
      "cell_type": "code",
      "source": [
        "import lightgbm as lgb\n",
        "\n",
        "model = lgb.LGBMClassifier()\n",
        "\n",
        "model.fit(X_train, y_train)\n",
        "print(model.score(X_train, y_train))\n",
        "print(model.score(X_test, y_test))"
      ],
      "metadata": {
        "colab": {
          "base_uri": "https://localhost:8080/"
        },
        "id": "33g1SMk9_n49",
        "outputId": "0fb8c0b5-5e72-49a9-fba6-7232b836b36f"
      },
      "execution_count": 35,
      "outputs": [
        {
          "output_type": "stream",
          "name": "stdout",
          "text": [
            "1.0\n",
            "0.7743016759776536\n"
          ]
        }
      ]
    },
    {
      "cell_type": "code",
      "source": [
        "X_test2 = X_test\n",
        "X_test2.iloc[0]['ultima_informacao_paciente'] = 3"
      ],
      "metadata": {
        "colab": {
          "base_uri": "https://localhost:8080/"
        },
        "id": "ZVUDz4EvL7Zd",
        "outputId": "d0e06788-97bf-4598-9452-2fd0a6e29cee"
      },
      "execution_count": 65,
      "outputs": [
        {
          "output_type": "stream",
          "name": "stderr",
          "text": [
            "/usr/local/lib/python3.8/dist-packages/pandas/core/series.py:1056: SettingWithCopyWarning: \n",
            "A value is trying to be set on a copy of a slice from a DataFrame\n",
            "\n",
            "See the caveats in the documentation: https://pandas.pydata.org/pandas-docs/stable/user_guide/indexing.html#returning-a-view-versus-a-copy\n",
            "  cacher_needs_updating = self._check_is_chained_assignment_possible()\n"
          ]
        }
      ]
    },
    {
      "cell_type": "code",
      "source": [
        "print(model.predict(X_test.iloc[0].values.reshape(1, -1)))\n",
        "print(model.predict(X_test2.iloc[0].values.reshape(1, -1)))"
      ],
      "metadata": {
        "colab": {
          "base_uri": "https://localhost:8080/"
        },
        "id": "56oUq0B4BO3U",
        "outputId": "7f14d8af-4f64-435c-bea1-feebd309de58"
      },
      "execution_count": 67,
      "outputs": [
        {
          "output_type": "stream",
          "name": "stdout",
          "text": [
            "[0.]\n",
            "[0.]\n"
          ]
        }
      ]
    },
    {
      "cell_type": "code",
      "source": [
        "X_test.iloc[0]"
      ],
      "metadata": {
        "colab": {
          "base_uri": "https://localhost:8080/"
        },
        "id": "D8olzQ0VLhZT",
        "outputId": "43c6a75c-4b2e-45df-e911-c519f8d55afe"
      },
      "execution_count": 59,
      "outputs": [
        {
          "output_type": "execute_result",
          "data": {
            "text/plain": [
              "record_id            42239.000000\n",
              "escolaridade             4.000000\n",
              "idade_diagnostico       65.000000\n",
              "sexo                     0.000000\n",
              "raca                     1.000000\n",
              "                         ...     \n",
              "ultimo_IMC           18776.997125\n",
              "diferenca_peso          13.708362\n",
              "coef_peso                2.834790\n",
              "diferenca_tempo          0.000000\n",
              "coef_peso_tempo          0.000000\n",
              "Name: 1224, Length: 61, dtype: float64"
            ]
          },
          "metadata": {},
          "execution_count": 59
        }
      ]
    },
    {
      "cell_type": "code",
      "source": [
        "# colocar tratamento como target\n",
        "\n",
        "# mapear 3 colunas que mostrem que o tratamento foi bom \n",
        "\n",
        "# morreu\n",
        "# tempo de seguimento -> pegar a média dos que sobreviveram com estes dados, mais ou menos\n",
        "# rescidiva_distancia\n",
        "# rescidiva_regional\n",
        "# rescidiva_local"
      ],
      "metadata": {
        "id": "Q-ZFh_xN8roy"
      },
      "execution_count": null,
      "outputs": []
    }
  ]
}